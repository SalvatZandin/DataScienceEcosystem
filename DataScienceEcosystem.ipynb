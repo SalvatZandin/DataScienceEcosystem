{
 "cells": [
  {
   "cell_type": "markdown",
   "id": "4b29b58a",
   "metadata": {},
   "source": [
    "<H1>Data Science Tools and Ecosystem</H1>"
   ]
  },
  {
   "cell_type": "markdown",
   "id": "3c3c0b7a",
   "metadata": {},
   "source": [
    "In this notebook, Data Science Tools and Ecosystem are summarized."
   ]
  },
  {
   "cell_type": "markdown",
   "id": "24c8ef12",
   "metadata": {},
   "source": [
    "Some of the popular languages that Data Scientists use are: \n",
    "1. Julia\n",
    "2. Python \n",
    "3. R"
   ]
  },
  {
   "cell_type": "markdown",
   "id": "0427a0c4",
   "metadata": {},
   "source": [
    "Some of the commonly used libraries used by Data Scientists include:\n",
    "1. NumPy\n",
    "2. SciPy \n",
    "3. matplotlib"
   ]
  },
  {
   "cell_type": "markdown",
   "id": "1f711ada",
   "metadata": {},
   "source": [
    "|Data Science Tools|\n",
    "|------------------|\n",
    "|Spyder|\n",
    "|R Studio|\n",
    "|JupyterLabs|"
   ]
  },
  {
   "cell_type": "code",
   "execution_count": 7,
   "id": "aa915a37",
   "metadata": {},
   "outputs": [
    {
     "data": {
      "text/plain": [
       "17"
      ]
     },
     "execution_count": 7,
     "metadata": {},
     "output_type": "execute_result"
    }
   ],
   "source": [
    "# This a simple arithmetic expression to mutiply then add integers.\n",
    "(3*4)+5"
   ]
  },
  {
   "cell_type": "markdown",
   "id": "873fce66",
   "metadata": {},
   "source": [
    "<H3>Below are a few examples of evaluating arithmetic expressions in Python</H3>"
   ]
  },
  {
   "cell_type": "code",
   "execution_count": 8,
   "id": "9de68cb0",
   "metadata": {},
   "outputs": [
    {
     "data": {
      "text/plain": [
       "3"
      ]
     },
     "execution_count": 8,
     "metadata": {},
     "output_type": "execute_result"
    }
   ],
   "source": [
    "#  This will convert 200 minutes to hours by diving by 60.\n",
    "200 // 60"
   ]
  },
  {
   "cell_type": "markdown",
   "id": "06449fd3",
   "metadata": {},
   "source": [
    "**Objectives:**\n",
    " - Cite popular open source, commercial, and cloud-based tools used by data scientists.\n",
    " - Explain the function of an API and list some common API-related terms.\n",
    " - Discuss the characteristics of a dataset and the ways data can be structured."
   ]
  },
  {
   "cell_type": "markdown",
   "id": "1dfd0d8f",
   "metadata": {},
   "source": [
    "<H2>Autor</H2>\n",
    "Eduardo Vargas"
   ]
  }
 ],
 "metadata": {
  "kernelspec": {
   "display_name": "Python 3 (ipykernel)",
   "language": "python",
   "name": "python3"
  },
  "language_info": {
   "codemirror_mode": {
    "name": "ipython",
    "version": 3
   },
   "file_extension": ".py",
   "mimetype": "text/x-python",
   "name": "python",
   "nbconvert_exporter": "python",
   "pygments_lexer": "ipython3",
   "version": "3.11.2"
  }
 },
 "nbformat": 4,
 "nbformat_minor": 5
}
